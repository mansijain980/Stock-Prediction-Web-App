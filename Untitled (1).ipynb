{
 "cells": [
  {
   "cell_type": "code",
   "execution_count": 1,
   "id": "47df2930",
   "metadata": {},
   "outputs": [],
   "source": [
    "import numpy as np\n",
    "import pandas as pd\n",
    "import matplotlib.pyplot as plt\n",
    "import pandas_datareader as data"
   ]
  },
  {
   "cell_type": "code",
   "execution_count": 4,
   "id": "42857281",
   "metadata": {},
   "outputs": [
    {
     "name": "stdout",
     "output_type": "stream",
     "text": [
      "Collecting yfinance\n",
      "  Downloading yfinance-0.1.64.tar.gz (26 kB)\n",
      "Requirement already satisfied: pandas>=0.24 in c:\\users\\admin\\anaconda3\\lib\\site-packages (from yfinance) (1.2.4)\n",
      "Requirement already satisfied: numpy>=1.15 in c:\\users\\admin\\anaconda3\\lib\\site-packages (from yfinance) (1.19.5)\n",
      "Requirement already satisfied: requests>=2.20 in c:\\users\\admin\\anaconda3\\lib\\site-packages (from yfinance) (2.25.1)\n",
      "Collecting multitasking>=0.0.7\n",
      "  Downloading multitasking-0.0.9.tar.gz (8.1 kB)\n",
      "Requirement already satisfied: lxml>=4.5.1 in c:\\users\\admin\\anaconda3\\lib\\site-packages (from yfinance) (4.6.3)\n",
      "Requirement already satisfied: pytz>=2017.3 in c:\\users\\admin\\anaconda3\\lib\\site-packages (from pandas>=0.24->yfinance) (2021.1)\n",
      "Requirement already satisfied: python-dateutil>=2.7.3 in c:\\users\\admin\\anaconda3\\lib\\site-packages (from pandas>=0.24->yfinance) (2.8.1)\n",
      "Requirement already satisfied: six>=1.5 in c:\\users\\admin\\anaconda3\\lib\\site-packages (from python-dateutil>=2.7.3->pandas>=0.24->yfinance) (1.15.0)\n",
      "Requirement already satisfied: urllib3<1.27,>=1.21.1 in c:\\users\\admin\\anaconda3\\lib\\site-packages (from requests>=2.20->yfinance) (1.26.4)\n",
      "Requirement already satisfied: certifi>=2017.4.17 in c:\\users\\admin\\anaconda3\\lib\\site-packages (from requests>=2.20->yfinance) (2020.12.5)\n",
      "Requirement already satisfied: chardet<5,>=3.0.2 in c:\\users\\admin\\anaconda3\\lib\\site-packages (from requests>=2.20->yfinance) (4.0.0)\n",
      "Requirement already satisfied: idna<3,>=2.5 in c:\\users\\admin\\anaconda3\\lib\\site-packages (from requests>=2.20->yfinance) (2.10)\n",
      "Building wheels for collected packages: yfinance, multitasking\n",
      "  Building wheel for yfinance (setup.py): started\n",
      "  Building wheel for yfinance (setup.py): finished with status 'done'\n",
      "  Created wheel for yfinance: filename=yfinance-0.1.64-py2.py3-none-any.whl size=24095 sha256=f33a0d49768c04b3a4e12efed812caf78478b006545b62d22825c50a5dd61c1c\n",
      "  Stored in directory: c:\\users\\admin\\appdata\\local\\pip\\cache\\wheels\\f9\\e9\\7e\\8b13db3bf3aeb5049d759e10702736fb96753089ac950fddc0\n",
      "  Building wheel for multitasking (setup.py): started\n",
      "  Building wheel for multitasking (setup.py): finished with status 'done'\n",
      "  Created wheel for multitasking: filename=multitasking-0.0.9-py3-none-any.whl size=8368 sha256=c47edcf0855ee982ca6a1b019325434285e042c7856edd8c82ec6b6db8be07e6\n",
      "  Stored in directory: c:\\users\\admin\\appdata\\local\\pip\\cache\\wheels\\57\\6d\\a3\\a39b839cc75274d2acfb1c58bfead2f726c6577fe8c4723f13\n",
      "Successfully built yfinance multitasking\n",
      "Installing collected packages: multitasking, yfinance\n",
      "Successfully installed multitasking-0.0.9 yfinance-0.1.64\n",
      "Note: you may need to restart the kernel to use updated packages.\n"
     ]
    }
   ],
   "source": [
    "pip install yfinance"
   ]
  },
  {
   "cell_type": "code",
   "execution_count": 2,
   "id": "94ad7e45",
   "metadata": {},
   "outputs": [],
   "source": [
    "import yfinance as yf"
   ]
  },
  {
   "cell_type": "code",
   "execution_count": 243,
   "id": "574dfa6d",
   "metadata": {},
   "outputs": [],
   "source": [
    "stock_symbol = 'GAIL.NS'"
   ]
  },
  {
   "cell_type": "code",
   "execution_count": 244,
   "id": "57880977",
   "metadata": {},
   "outputs": [
    {
     "name": "stdout",
     "output_type": "stream",
     "text": [
      "[*********************100%***********************]  1 of 1 completed\n"
     ]
    }
   ],
   "source": [
    "#last 5 years data with interval of 1 day\n",
    "data = yf.download(tickers=stock_symbol,period='5y',interval='1d')"
   ]
  },
  {
   "cell_type": "code",
   "execution_count": 245,
   "id": "37aa4890",
   "metadata": {},
   "outputs": [
    {
     "data": {
      "text/html": [
       "<div>\n",
       "<style scoped>\n",
       "    .dataframe tbody tr th:only-of-type {\n",
       "        vertical-align: middle;\n",
       "    }\n",
       "\n",
       "    .dataframe tbody tr th {\n",
       "        vertical-align: top;\n",
       "    }\n",
       "\n",
       "    .dataframe thead th {\n",
       "        text-align: right;\n",
       "    }\n",
       "</style>\n",
       "<table border=\"1\" class=\"dataframe\">\n",
       "  <thead>\n",
       "    <tr style=\"text-align: right;\">\n",
       "      <th></th>\n",
       "      <th>Open</th>\n",
       "      <th>High</th>\n",
       "      <th>Low</th>\n",
       "      <th>Close</th>\n",
       "      <th>Adj Close</th>\n",
       "      <th>Volume</th>\n",
       "    </tr>\n",
       "    <tr>\n",
       "      <th>Date</th>\n",
       "      <th></th>\n",
       "      <th></th>\n",
       "      <th></th>\n",
       "      <th></th>\n",
       "      <th></th>\n",
       "      <th></th>\n",
       "    </tr>\n",
       "  </thead>\n",
       "  <tbody>\n",
       "    <tr>\n",
       "      <th>2016-11-03</th>\n",
       "      <td>120.178185</td>\n",
       "      <td>122.062561</td>\n",
       "      <td>119.334435</td>\n",
       "      <td>120.389122</td>\n",
       "      <td>102.371628</td>\n",
       "      <td>10743788</td>\n",
       "    </tr>\n",
       "    <tr>\n",
       "      <th>2016-11-04</th>\n",
       "      <td>120.937561</td>\n",
       "      <td>121.696938</td>\n",
       "      <td>118.546936</td>\n",
       "      <td>119.250061</td>\n",
       "      <td>101.403046</td>\n",
       "      <td>4898582</td>\n",
       "    </tr>\n",
       "    <tr>\n",
       "      <th>2016-11-07</th>\n",
       "      <td>119.728188</td>\n",
       "      <td>120.937561</td>\n",
       "      <td>118.617249</td>\n",
       "      <td>119.910995</td>\n",
       "      <td>101.965057</td>\n",
       "      <td>4032598</td>\n",
       "    </tr>\n",
       "    <tr>\n",
       "      <th>2016-11-08</th>\n",
       "      <td>120.431313</td>\n",
       "      <td>124.171936</td>\n",
       "      <td>119.306313</td>\n",
       "      <td>123.496933</td>\n",
       "      <td>105.014336</td>\n",
       "      <td>7359423</td>\n",
       "    </tr>\n",
       "    <tr>\n",
       "      <th>2016-11-09</th>\n",
       "      <td>119.531311</td>\n",
       "      <td>126.196938</td>\n",
       "      <td>117.562561</td>\n",
       "      <td>125.578186</td>\n",
       "      <td>106.784111</td>\n",
       "      <td>7843274</td>\n",
       "    </tr>\n",
       "  </tbody>\n",
       "</table>\n",
       "</div>"
      ],
      "text/plain": [
       "                  Open        High         Low       Close   Adj Close  \\\n",
       "Date                                                                     \n",
       "2016-11-03  120.178185  122.062561  119.334435  120.389122  102.371628   \n",
       "2016-11-04  120.937561  121.696938  118.546936  119.250061  101.403046   \n",
       "2016-11-07  119.728188  120.937561  118.617249  119.910995  101.965057   \n",
       "2016-11-08  120.431313  124.171936  119.306313  123.496933  105.014336   \n",
       "2016-11-09  119.531311  126.196938  117.562561  125.578186  106.784111   \n",
       "\n",
       "              Volume  \n",
       "Date                  \n",
       "2016-11-03  10743788  \n",
       "2016-11-04   4898582  \n",
       "2016-11-07   4032598  \n",
       "2016-11-08   7359423  \n",
       "2016-11-09   7843274  "
      ]
     },
     "execution_count": 245,
     "metadata": {},
     "output_type": "execute_result"
    }
   ],
   "source": [
    "data.head()"
   ]
  },
  {
   "cell_type": "code",
   "execution_count": 246,
   "id": "a726f7c8",
   "metadata": {},
   "outputs": [
    {
     "data": {
      "text/plain": [
       "1235"
      ]
     },
     "execution_count": 246,
     "metadata": {},
     "output_type": "execute_result"
    }
   ],
   "source": [
    "len(data)"
   ]
  },
  {
   "cell_type": "code",
   "execution_count": 247,
   "id": "17578c1a",
   "metadata": {},
   "outputs": [
    {
     "data": {
      "text/html": [
       "<div>\n",
       "<style scoped>\n",
       "    .dataframe tbody tr th:only-of-type {\n",
       "        vertical-align: middle;\n",
       "    }\n",
       "\n",
       "    .dataframe tbody tr th {\n",
       "        vertical-align: top;\n",
       "    }\n",
       "\n",
       "    .dataframe thead th {\n",
       "        text-align: right;\n",
       "    }\n",
       "</style>\n",
       "<table border=\"1\" class=\"dataframe\">\n",
       "  <thead>\n",
       "    <tr style=\"text-align: right;\">\n",
       "      <th></th>\n",
       "      <th>Open</th>\n",
       "      <th>High</th>\n",
       "      <th>Low</th>\n",
       "      <th>Close</th>\n",
       "      <th>Adj Close</th>\n",
       "      <th>Volume</th>\n",
       "    </tr>\n",
       "    <tr>\n",
       "      <th>Date</th>\n",
       "      <th></th>\n",
       "      <th></th>\n",
       "      <th></th>\n",
       "      <th></th>\n",
       "      <th></th>\n",
       "      <th></th>\n",
       "    </tr>\n",
       "  </thead>\n",
       "  <tbody>\n",
       "    <tr>\n",
       "      <th>2021-10-28</th>\n",
       "      <td>150.500000</td>\n",
       "      <td>151.000000</td>\n",
       "      <td>146.199997</td>\n",
       "      <td>147.449997</td>\n",
       "      <td>147.449997</td>\n",
       "      <td>9873408</td>\n",
       "    </tr>\n",
       "    <tr>\n",
       "      <th>2021-10-29</th>\n",
       "      <td>146.649994</td>\n",
       "      <td>156.250000</td>\n",
       "      <td>145.500000</td>\n",
       "      <td>148.850006</td>\n",
       "      <td>148.850006</td>\n",
       "      <td>28347156</td>\n",
       "    </tr>\n",
       "    <tr>\n",
       "      <th>2021-11-01</th>\n",
       "      <td>152.500000</td>\n",
       "      <td>154.800003</td>\n",
       "      <td>149.000000</td>\n",
       "      <td>150.199997</td>\n",
       "      <td>150.199997</td>\n",
       "      <td>16547935</td>\n",
       "    </tr>\n",
       "    <tr>\n",
       "      <th>2021-11-02</th>\n",
       "      <td>150.699997</td>\n",
       "      <td>154.750000</td>\n",
       "      <td>150.350006</td>\n",
       "      <td>150.949997</td>\n",
       "      <td>150.949997</td>\n",
       "      <td>14821556</td>\n",
       "    </tr>\n",
       "    <tr>\n",
       "      <th>2021-11-03</th>\n",
       "      <td>151.850006</td>\n",
       "      <td>154.500000</td>\n",
       "      <td>150.300003</td>\n",
       "      <td>150.550003</td>\n",
       "      <td>150.550003</td>\n",
       "      <td>11153081</td>\n",
       "    </tr>\n",
       "  </tbody>\n",
       "</table>\n",
       "</div>"
      ],
      "text/plain": [
       "                  Open        High         Low       Close   Adj Close  \\\n",
       "Date                                                                     \n",
       "2021-10-28  150.500000  151.000000  146.199997  147.449997  147.449997   \n",
       "2021-10-29  146.649994  156.250000  145.500000  148.850006  148.850006   \n",
       "2021-11-01  152.500000  154.800003  149.000000  150.199997  150.199997   \n",
       "2021-11-02  150.699997  154.750000  150.350006  150.949997  150.949997   \n",
       "2021-11-03  151.850006  154.500000  150.300003  150.550003  150.550003   \n",
       "\n",
       "              Volume  \n",
       "Date                  \n",
       "2021-10-28   9873408  \n",
       "2021-10-29  28347156  \n",
       "2021-11-01  16547935  \n",
       "2021-11-02  14821556  \n",
       "2021-11-03  11153081  "
      ]
     },
     "execution_count": 247,
     "metadata": {},
     "output_type": "execute_result"
    }
   ],
   "source": [
    "data.tail()"
   ]
  },
  {
   "cell_type": "code",
   "execution_count": 248,
   "id": "7b18bd8d",
   "metadata": {},
   "outputs": [
    {
     "data": {
      "text/plain": [
       "<AxesSubplot:xlabel='Date'>"
      ]
     },
     "execution_count": 248,
     "metadata": {},
     "output_type": "execute_result"
    },
    {
     "data": {
      "image/png": "[encoded data removed]",
      "text/plain": [
       "<Figure size 432x288 with 1 Axes>"
      ]
     },
     "metadata": {
      "needs_background": "light"
     },
     "output_type": "display_data"
    }
   ],
   "source": [
    "cls = data[['Close']]\n",
    "cls.plot()"
   ]
  },
  {
   "cell_type": "code",
   "execution_count": 249,
   "id": "88f88519",
   "metadata": {},
   "outputs": [
    {
     "data": {
      "text/plain": [
       "array([[120.38912201],\n",
       "       [119.25006104],\n",
       "       [119.91099548],\n",
       "       ...,\n",
       "       [150.19999695],\n",
       "       [150.94999695],\n",
       "       [150.55000305]])"
      ]
     },
     "execution_count": 249,
     "metadata": {},
     "output_type": "execute_result"
    }
   ],
   "source": [
    "ds = cls.values\n",
    "ds"
   ]
  },
  {
   "cell_type": "code",
   "execution_count": 250,
   "id": "65216135",
   "metadata": {},
   "outputs": [
    {
     "data": {
      "text/plain": [
       "[<matplotlib.lines.Line2D at 0x2c5880815b0>]"
      ]
     },
     "execution_count": 250,
     "metadata": {},
     "output_type": "execute_result"
    },
    {
     "data": {
      "image/png": "[encoded data removed]",
      "text/plain": [
       "<Figure size 432x288 with 1 Axes>"
      ]
     },
     "metadata": {
      "needs_background": "light"
     },
     "output_type": "display_data"
    }
   ],
   "source": [
    "plt.plot(ds)"
   ]
  },
  {
   "cell_type": "code",
   "execution_count": 251,
   "id": "8499858f",
   "metadata": {},
   "outputs": [],
   "source": [
    "from sklearn.preprocessing import MinMaxScaler"
   ]
  },
  {
   "cell_type": "code",
   "execution_count": 252,
   "id": "9988e51f",
   "metadata": {},
   "outputs": [],
   "source": [
    "#Using MinMaxScaler for normalizing data between 0 & 1\n",
    "normalizer = MinMaxScaler(feature_range=(0,1))\n",
    "ds_scaled = normalizer.fit_transform(np.array(ds).reshape(-1,1))"
   ]
  },
  {
   "cell_type": "code",
   "execution_count": 253,
   "id": "457ce874",
   "metadata": {},
   "outputs": [
    {
     "data": {
      "text/plain": [
       "(1235, 1235)"
      ]
     },
     "execution_count": 253,
     "metadata": {},
     "output_type": "execute_result"
    }
   ],
   "source": [
    "len(ds_scaled), len(ds)"
   ]
  },
  {
   "cell_type": "code",
   "execution_count": 254,
   "id": "f47c14aa",
   "metadata": {},
   "outputs": [],
   "source": [
    "#Defining test and train data sizes\n",
    "train_size = int(len(ds_scaled)*0.70)\n",
    "test_size = len(ds_scaled) - train_size"
   ]
  },
  {
   "cell_type": "code",
   "execution_count": 255,
   "id": "597b4b7a",
   "metadata": {},
   "outputs": [
    {
     "data": {
      "text/plain": [
       "(864, 371)"
      ]
     },
     "execution_count": 255,
     "metadata": {},
     "output_type": "execute_result"
    }
   ],
   "source": [
    "train_size,test_size"
   ]
  },
  {
   "cell_type": "code",
   "execution_count": 256,
   "id": "84ae128e",
   "metadata": {},
   "outputs": [],
   "source": [
    "#Splitting data between train and test\n",
    "ds_train, ds_test = ds_scaled[0:train_size,:], ds_scaled[train_size:len(ds_scaled),:1]"
   ]
  },
  {
   "cell_type": "code",
   "execution_count": 257,
   "id": "223d79bd",
   "metadata": {},
   "outputs": [
    {
     "data": {
      "text/plain": [
       "(864, 371)"
      ]
     },
     "execution_count": 257,
     "metadata": {},
     "output_type": "execute_result"
    }
   ],
   "source": [
    "len(ds_train),len(ds_test)"
   ]
  },
  {
   "cell_type": "code",
   "execution_count": 258,
   "id": "d24bef49",
   "metadata": {},
   "outputs": [],
   "source": [
    "#creating dataset in time series for LSTM model \n",
    "#X[100,120,140,160,180] : Y[200]\n",
    "def create_ds(dataset,step):\n",
    "    Xtrain, Ytrain = [], []\n",
    "    for i in range(len(dataset)-step-1):\n",
    "        a = dataset[i:(i+step), 0]\n",
    "        Xtrain.append(a)\n",
    "        Ytrain.append(dataset[i + step, 0])\n",
    "    return np.array(Xtrain), np.array(Ytrain)"
   ]
  },
  {
   "cell_type": "code",
   "execution_count": 259,
   "id": "95af86a3",
   "metadata": {},
   "outputs": [],
   "source": [
    "#Taking 100 days price as one record for training\n",
    "time_stamp = 100\n",
    "X_train, y_train = create_ds(ds_train,time_stamp)\n",
    "X_test, y_test = create_ds(ds_test,time_stamp)"
   ]
  },
  {
   "cell_type": "code",
   "execution_count": 260,
   "id": "ae3c0477",
   "metadata": {},
   "outputs": [
    {
     "data": {
      "text/plain": [
       "((763, 100), (763,))"
      ]
     },
     "execution_count": 260,
     "metadata": {},
     "output_type": "execute_result"
    }
   ],
   "source": [
    "X_train.shape,y_train.shape"
   ]
  },
  {
   "cell_type": "code",
   "execution_count": 261,
   "id": "08574e65",
   "metadata": {},
   "outputs": [
    {
     "data": {
      "text/plain": [
       "((270, 100), (270,))"
      ]
     },
     "execution_count": 261,
     "metadata": {},
     "output_type": "execute_result"
    }
   ],
   "source": [
    "X_test.shape, y_test.shape"
   ]
  },
  {
   "cell_type": "code",
   "execution_count": 262,
   "id": "da5b91cb",
   "metadata": {},
   "outputs": [],
   "source": [
    "#Reshaping data to fit into LSTM model\n",
    "X_train = X_train.reshape(X_train.shape[0],X_train.shape[1] , 1)\n",
    "X_test = X_test.reshape(X_test.shape[0],X_test.shape[1] , 1)"
   ]
  },
  {
   "cell_type": "code",
   "execution_count": 263,
   "id": "eb2d76b6",
   "metadata": {},
   "outputs": [],
   "source": [
    "from keras.models import Sequential\n",
    "from keras.layers import Dense, LSTM"
   ]
  },
  {
   "cell_type": "code",
   "execution_count": 264,
   "id": "753d1e99",
   "metadata": {},
   "outputs": [
    {
     "name": "stdout",
     "output_type": "stream",
     "text": [
      "Model: \"sequential_5\"\n",
      "_________________________________________________________________\n",
      "Layer (type)                 Output Shape              Param #   \n",
      "=================================================================\n",
      "lstm_15 (LSTM)               (None, 100, 50)           10400     \n",
      "_________________________________________________________________\n",
      "lstm_16 (LSTM)               (None, 100, 50)           20200     \n",
      "_________________________________________________________________\n",
      "lstm_17 (LSTM)               (None, 50)                20200     \n",
      "_________________________________________________________________\n",
      "dense_5 (Dense)              (None, 1)                 51        \n",
      "=================================================================\n",
      "Total params: 50,851\n",
      "Trainable params: 50,851\n",
      "Non-trainable params: 0\n",
      "_________________________________________________________________\n"
     ]
    }
   ],
   "source": [
    "#Creating LSTM model using keras\n",
    "model = Sequential()\n",
    "model.add(LSTM(units=50,return_sequences=True,input_shape=(X_train.shape[1],1)))\n",
    "model.add(LSTM(units=50,return_sequences=True))\n",
    "model.add(LSTM(units=50))\n",
    "model.add(Dense(units=1,activation='linear'))\n",
    "model.summary()"
   ]
  },
  {
   "cell_type": "code",
   "execution_count": 265,
   "id": "c11f543c",
   "metadata": {},
   "outputs": [
    {
     "name": "stdout",
     "output_type": "stream",
     "text": [
      "Epoch 1/100\n",
      "12/12 [==============================] - 7s 258ms/step - loss: 0.1315 - val_loss: 0.0086\n",
      "Epoch 2/100\n",
      "12/12 [==============================] - 2s 147ms/step - loss: 0.0201 - val_loss: 0.0143\n",
      "Epoch 3/100\n",
      "12/12 [==============================] - 2s 158ms/step - loss: 0.0104 - val_loss: 0.0050\n",
      "Epoch 4/100\n",
      "12/12 [==============================] - 2s 144ms/step - loss: 0.0074 - val_loss: 0.0045\n",
      "Epoch 5/100\n",
      "12/12 [==============================] - 2s 155ms/step - loss: 0.0055 - val_loss: 0.0041\n",
      "Epoch 6/100\n",
      "12/12 [==============================] - 2s 156ms/step - loss: 0.0045 - val_loss: 0.0042\n",
      "Epoch 7/100\n",
      "12/12 [==============================] - 2s 140ms/step - loss: 0.0039 - val_loss: 0.0049\n",
      "Epoch 8/100\n",
      "12/12 [==============================] - 2s 143ms/step - loss: 0.0036 - val_loss: 0.0051\n",
      "Epoch 9/100\n",
      "12/12 [==============================] - 2s 152ms/step - loss: 0.0037 - val_loss: 0.0060\n",
      "Epoch 10/100\n",
      "12/12 [==============================] - 2s 137ms/step - loss: 0.0036 - val_loss: 0.0059\n",
      "Epoch 11/100\n",
      "12/12 [==============================] - 2s 146ms/step - loss: 0.0036 - val_loss: 0.0050\n",
      "Epoch 12/100\n",
      "12/12 [==============================] - 2s 152ms/step - loss: 0.0035 - val_loss: 0.0045\n",
      "Epoch 13/100\n",
      "12/12 [==============================] - 2s 141ms/step - loss: 0.0034 - val_loss: 0.0047\n",
      "Epoch 14/100\n",
      "12/12 [==============================] - 2s 160ms/step - loss: 0.0034 - val_loss: 0.0050\n",
      "Epoch 15/100\n",
      "12/12 [==============================] - 2s 164ms/step - loss: 0.0033 - val_loss: 0.0044\n",
      "Epoch 16/100\n",
      "12/12 [==============================] - 2s 162ms/step - loss: 0.0032 - val_loss: 0.0042\n",
      "Epoch 17/100\n",
      "12/12 [==============================] - 2s 165ms/step - loss: 0.0031 - val_loss: 0.0044\n",
      "Epoch 18/100\n",
      "12/12 [==============================] - 2s 163ms/step - loss: 0.0031 - val_loss: 0.0038\n",
      "Epoch 19/100\n",
      "12/12 [==============================] - 2s 175ms/step - loss: 0.0031 - val_loss: 0.0041\n",
      "Epoch 20/100\n",
      "12/12 [==============================] - 2s 153ms/step - loss: 0.0030 - val_loss: 0.0037\n",
      "Epoch 21/100\n",
      "12/12 [==============================] - 2s 178ms/step - loss: 0.0029 - val_loss: 0.0037\n",
      "Epoch 22/100\n",
      "12/12 [==============================] - 2s 149ms/step - loss: 0.0029 - val_loss: 0.0035\n",
      "Epoch 23/100\n",
      "12/12 [==============================] - 2s 179ms/step - loss: 0.0029 - val_loss: 0.0035\n",
      "Epoch 24/100\n",
      "12/12 [==============================] - 2s 165ms/step - loss: 0.0027 - val_loss: 0.0037\n",
      "Epoch 25/100\n",
      "12/12 [==============================] - 2s 179ms/step - loss: 0.0028 - val_loss: 0.0033\n",
      "Epoch 26/100\n",
      "12/12 [==============================] - 2s 178ms/step - loss: 0.0027 - val_loss: 0.0034\n",
      "Epoch 27/100\n",
      "12/12 [==============================] - 2s 160ms/step - loss: 0.0026 - val_loss: 0.0034\n",
      "Epoch 28/100\n",
      "12/12 [==============================] - 2s 167ms/step - loss: 0.0026 - val_loss: 0.0033\n",
      "Epoch 29/100\n",
      "12/12 [==============================] - 2s 156ms/step - loss: 0.0027 - val_loss: 0.0032\n",
      "Epoch 30/100\n",
      "12/12 [==============================] - 2s 144ms/step - loss: 0.0028 - val_loss: 0.0035\n",
      "Epoch 31/100\n",
      "12/12 [==============================] - 2s 162ms/step - loss: 0.0027 - val_loss: 0.0033\n",
      "Epoch 32/100\n",
      "12/12 [==============================] - 2s 203ms/step - loss: 0.0027 - val_loss: 0.0031\n",
      "Epoch 33/100\n",
      "12/12 [==============================] - 2s 165ms/step - loss: 0.0026 - val_loss: 0.0030\n",
      "Epoch 34/100\n",
      "12/12 [==============================] - 2s 143ms/step - loss: 0.0026 - val_loss: 0.0034\n",
      "Epoch 35/100\n",
      "12/12 [==============================] - 2s 154ms/step - loss: 0.0026 - val_loss: 0.0030\n",
      "Epoch 36/100\n",
      "12/12 [==============================] - 2s 170ms/step - loss: 0.0027 - val_loss: 0.0029\n",
      "Epoch 37/100\n",
      "12/12 [==============================] - 2s 171ms/step - loss: 0.0024 - val_loss: 0.0029\n",
      "Epoch 38/100\n",
      "12/12 [==============================] - 2s 159ms/step - loss: 0.0024 - val_loss: 0.0030\n",
      "Epoch 39/100\n",
      "12/12 [==============================] - 2s 159ms/step - loss: 0.0026 - val_loss: 0.0030\n",
      "Epoch 40/100\n",
      "12/12 [==============================] - 2s 153ms/step - loss: 0.0028 - val_loss: 0.0032\n",
      "Epoch 41/100\n",
      "12/12 [==============================] - 2s 147ms/step - loss: 0.0025 - val_loss: 0.0028\n",
      "Epoch 42/100\n",
      "12/12 [==============================] - 2s 174ms/step - loss: 0.0025 - val_loss: 0.0030\n",
      "Epoch 43/100\n",
      "12/12 [==============================] - 2s 171ms/step - loss: 0.0027 - val_loss: 0.0031\n",
      "Epoch 44/100\n",
      "12/12 [==============================] - 2s 174ms/step - loss: 0.0024 - val_loss: 0.0030\n",
      "Epoch 45/100\n",
      "12/12 [==============================] - 2s 181ms/step - loss: 0.0025 - val_loss: 0.0027\n",
      "Epoch 46/100\n",
      "12/12 [==============================] - 2s 187ms/step - loss: 0.0025 - val_loss: 0.0027\n",
      "Epoch 47/100\n",
      "12/12 [==============================] - 2s 165ms/step - loss: 0.0022 - val_loss: 0.0029\n",
      "Epoch 48/100\n",
      "12/12 [==============================] - 2s 185ms/step - loss: 0.0024 - val_loss: 0.0026\n",
      "Epoch 49/100\n",
      "12/12 [==============================] - 2s 186ms/step - loss: 0.0027 - val_loss: 0.0026\n",
      "Epoch 50/100\n",
      "12/12 [==============================] - 2s 187ms/step - loss: 0.0024 - val_loss: 0.0030\n",
      "Epoch 51/100\n",
      "12/12 [==============================] - 2s 169ms/step - loss: 0.0023 - val_loss: 0.0026\n",
      "Epoch 52/100\n",
      "12/12 [==============================] - 2s 158ms/step - loss: 0.0023 - val_loss: 0.0029\n",
      "Epoch 53/100\n",
      "12/12 [==============================] - 2s 175ms/step - loss: 0.0024 - val_loss: 0.0026\n",
      "Epoch 54/100\n",
      "12/12 [==============================] - 2s 169ms/step - loss: 0.0024 - val_loss: 0.0025\n",
      "Epoch 55/100\n",
      "12/12 [==============================] - 2s 156ms/step - loss: 0.0022 - val_loss: 0.0027\n",
      "Epoch 56/100\n",
      "12/12 [==============================] - 2s 149ms/step - loss: 0.0021 - val_loss: 0.0024\n",
      "Epoch 57/100\n",
      "12/12 [==============================] - 2s 150ms/step - loss: 0.0020 - val_loss: 0.0025\n",
      "Epoch 58/100\n",
      "12/12 [==============================] - 2s 154ms/step - loss: 0.0020 - val_loss: 0.0025\n",
      "Epoch 59/100\n",
      "12/12 [==============================] - 2s 169ms/step - loss: 0.0021 - val_loss: 0.0027\n",
      "Epoch 60/100\n",
      "12/12 [==============================] - 2s 176ms/step - loss: 0.0021 - val_loss: 0.0022\n",
      "Epoch 61/100\n",
      "12/12 [==============================] - 2s 175ms/step - loss: 0.0019 - val_loss: 0.0022\n",
      "Epoch 62/100\n",
      "12/12 [==============================] - 2s 171ms/step - loss: 0.0019 - val_loss: 0.0022\n",
      "Epoch 63/100\n",
      "12/12 [==============================] - 2s 155ms/step - loss: 0.0019 - val_loss: 0.0022\n",
      "Epoch 64/100\n",
      "12/12 [==============================] - 2s 159ms/step - loss: 0.0019 - val_loss: 0.0021\n",
      "Epoch 65/100\n",
      "12/12 [==============================] - 2s 168ms/step - loss: 0.0019 - val_loss: 0.0021\n",
      "Epoch 66/100\n",
      "12/12 [==============================] - 2s 150ms/step - loss: 0.0019 - val_loss: 0.0022\n",
      "Epoch 67/100\n",
      "12/12 [==============================] - 2s 161ms/step - loss: 0.0018 - val_loss: 0.0020\n",
      "Epoch 68/100\n",
      "12/12 [==============================] - 2s 179ms/step - loss: 0.0018 - val_loss: 0.0021\n",
      "Epoch 69/100\n",
      "12/12 [==============================] - 2s 175ms/step - loss: 0.0018 - val_loss: 0.0022\n",
      "Epoch 70/100\n",
      "12/12 [==============================] - 2s 156ms/step - loss: 0.0018 - val_loss: 0.0018\n",
      "Epoch 71/100\n",
      "12/12 [==============================] - 2s 167ms/step - loss: 0.0019 - val_loss: 0.0024\n",
      "Epoch 72/100\n",
      "12/12 [==============================] - 2s 157ms/step - loss: 0.0023 - val_loss: 0.0017\n",
      "Epoch 73/100\n",
      "12/12 [==============================] - 2s 157ms/step - loss: 0.0018 - val_loss: 0.0017\n",
      "Epoch 74/100\n",
      "12/12 [==============================] - 2s 159ms/step - loss: 0.0016 - val_loss: 0.0019\n",
      "Epoch 75/100\n",
      "12/12 [==============================] - 2s 156ms/step - loss: 0.0017 - val_loss: 0.0019\n",
      "Epoch 76/100\n",
      "12/12 [==============================] - 2s 163ms/step - loss: 0.0016 - val_loss: 0.0016\n",
      "Epoch 77/100\n",
      "12/12 [==============================] - 2s 149ms/step - loss: 0.0016 - val_loss: 0.0016\n",
      "Epoch 78/100\n",
      "12/12 [==============================] - 2s 153ms/step - loss: 0.0016 - val_loss: 0.0016\n",
      "Epoch 79/100\n",
      "12/12 [==============================] - 2s 160ms/step - loss: 0.0016 - val_loss: 0.0016\n",
      "Epoch 80/100\n",
      "12/12 [==============================] - 2s 147ms/step - loss: 0.0018 - val_loss: 0.0016\n",
      "Epoch 81/100\n"
     ]
    },
    {
     "name": "stdout",
     "output_type": "stream",
     "text": [
      "12/12 [==============================] - 2s 153ms/step - loss: 0.0021 - val_loss: 0.0015\n",
      "Epoch 82/100\n",
      "12/12 [==============================] - 2s 156ms/step - loss: 0.0016 - val_loss: 0.0016\n",
      "Epoch 83/100\n",
      "12/12 [==============================] - 2s 149ms/step - loss: 0.0015 - val_loss: 0.0014\n",
      "Epoch 84/100\n",
      "12/12 [==============================] - 2s 155ms/step - loss: 0.0016 - val_loss: 0.0014\n",
      "Epoch 85/100\n",
      "12/12 [==============================] - 2s 157ms/step - loss: 0.0016 - val_loss: 0.0018\n",
      "Epoch 86/100\n",
      "12/12 [==============================] - 2s 163ms/step - loss: 0.0020 - val_loss: 0.0018\n",
      "Epoch 87/100\n",
      "12/12 [==============================] - 2s 168ms/step - loss: 0.0020 - val_loss: 0.0014\n",
      "Epoch 88/100\n",
      "12/12 [==============================] - 2s 174ms/step - loss: 0.0015 - val_loss: 0.0016\n",
      "Epoch 89/100\n",
      "12/12 [==============================] - 2s 151ms/step - loss: 0.0014 - val_loss: 0.0013\n",
      "Epoch 90/100\n",
      "12/12 [==============================] - 2s 152ms/step - loss: 0.0013 - val_loss: 0.0013\n",
      "Epoch 91/100\n",
      "12/12 [==============================] - 2s 166ms/step - loss: 0.0013 - val_loss: 0.0013\n",
      "Epoch 92/100\n",
      "12/12 [==============================] - 2s 158ms/step - loss: 0.0013 - val_loss: 0.0012\n",
      "Epoch 93/100\n",
      "12/12 [==============================] - 2s 158ms/step - loss: 0.0012 - val_loss: 0.0012\n",
      "Epoch 94/100\n",
      "12/12 [==============================] - 2s 159ms/step - loss: 0.0014 - val_loss: 0.0014\n",
      "Epoch 95/100\n",
      "12/12 [==============================] - 2s 158ms/step - loss: 0.0015 - val_loss: 0.0011\n",
      "Epoch 96/100\n",
      "12/12 [==============================] - 2s 151ms/step - loss: 0.0013 - val_loss: 0.0012\n",
      "Epoch 97/100\n",
      "12/12 [==============================] - 2s 162ms/step - loss: 0.0012 - val_loss: 0.0011\n",
      "Epoch 98/100\n",
      "12/12 [==============================] - 2s 154ms/step - loss: 0.0012 - val_loss: 0.0011\n",
      "Epoch 99/100\n",
      "12/12 [==============================] - 2s 151ms/step - loss: 0.0012 - val_loss: 0.0013\n",
      "Epoch 100/100\n",
      "12/12 [==============================] - 2s 161ms/step - loss: 0.0012 - val_loss: 9.8806e-04\n"
     ]
    },
    {
     "data": {
      "text/plain": [
       "<keras.callbacks.History at 0x2c5881fa910>"
      ]
     },
     "execution_count": 265,
     "metadata": {},
     "output_type": "execute_result"
    }
   ],
   "source": [
    "#Training model with adam optimizer and mean squared error loss function\n",
    "model.compile(loss='mean_squared_error',optimizer='adam')\n",
    "model.fit(X_train,y_train,validation_data=(X_test,y_test),epochs=100,batch_size=64)"
   ]
  },
  {
   "cell_type": "code",
   "execution_count": 266,
   "id": "4ef9b8da",
   "metadata": {},
   "outputs": [],
   "source": [
    "model.save('LSTM_modelGAIL.h5')"
   ]
  },
  {
   "cell_type": "code",
   "execution_count": 267,
   "id": "edc0956b",
   "metadata": {},
   "outputs": [
    {
     "data": {
      "text/plain": [
       "[<matplotlib.lines.Line2D at 0x2c58dcb27f0>]"
      ]
     },
     "execution_count": 267,
     "metadata": {},
     "output_type": "execute_result"
    },
    {
     "data": {
      "image/png": "[encoded data removed]",
      "text/plain": [
       "<Figure size 432x288 with 1 Axes>"
      ]
     },
     "metadata": {
      "needs_background": "light"
     },
     "output_type": "display_data"
    }
   ],
   "source": [
    "#PLotting loss, it shows that loss has decreased significantly and model trained well\n",
    "loss = model.history.history['loss']\n",
    "plt.plot(loss)"
   ]
  },
  {
   "cell_type": "code",
   "execution_count": 268,
   "id": "eff95354",
   "metadata": {},
   "outputs": [],
   "source": [
    "#Predicitng on train and test data\n",
    "train_predict = model.predict(X_train)\n",
    "test_predict = model.predict(X_test)"
   ]
  },
  {
   "cell_type": "code",
   "execution_count": 269,
   "id": "7c2d76bb",
   "metadata": {},
   "outputs": [],
   "source": [
    "#Inverse transform to get actual value\n",
    "train_predict = normalizer.inverse_transform(train_predict)\n",
    "test_predict = normalizer.inverse_transform(test_predict)"
   ]
  },
  {
   "cell_type": "code",
   "execution_count": 270,
   "id": "9790e810",
   "metadata": {},
   "outputs": [
    {
     "data": {
      "text/plain": [
       "[<matplotlib.lines.Line2D at 0x2c58ef2b1f0>]"
      ]
     },
     "execution_count": 270,
     "metadata": {},
     "output_type": "execute_result"
    },
    {
     "data": {
      "image/png": "[encoded data removed]",
      "text/plain": [
       "<Figure size 432x288 with 1 Axes>"
      ]
     },
     "metadata": {
      "needs_background": "light"
     },
     "output_type": "display_data"
    }
   ],
   "source": [
    "#Comparing using visuals\n",
    "plt.plot(normalizer.inverse_transform(ds_scaled))\n",
    "plt.plot(train_predict)\n",
    "plt.plot(test_predict)"
   ]
  },
  {
   "cell_type": "code",
   "execution_count": 271,
   "id": "6ca469c1",
   "metadata": {},
   "outputs": [
    {
     "data": {
      "text/plain": [
       "numpy.ndarray"
      ]
     },
     "execution_count": 271,
     "metadata": {},
     "output_type": "execute_result"
    }
   ],
   "source": [
    "type(train_predict)"
   ]
  },
  {
   "cell_type": "code",
   "execution_count": 272,
   "id": "b97704b3",
   "metadata": {},
   "outputs": [],
   "source": [
    "test = np.vstack((train_predict,test_predict))"
   ]
  },
  {
   "cell_type": "code",
   "execution_count": 352,
   "id": "af135a67",
   "metadata": {},
   "outputs": [
    {
     "data": {
      "text/plain": [
       "[<matplotlib.lines.Line2D at 0x2c59370fee0>]"
      ]
     },
     "execution_count": 352,
     "metadata": {},
     "output_type": "execute_result"
    },
    {
     "data": {
      "image/png": "[encoded data removed]",
      "text/plain": [
       "<Figure size 432x288 with 1 Axes>"
      ]
     },
     "metadata": {
      "needs_background": "light"
     },
     "output_type": "display_data"
    }
   ],
   "source": [
    "#Combining the predited data to create uniform data visualization\n",
    "plt.plot(normalizer.inverse_transform(ds_scaled))\n",
    "p_n = np.arange(1,101)\n",
    "plt.plot(test)\n"
   ]
  },
  {
   "cell_type": "code",
   "execution_count": 353,
   "id": "20826ae0",
   "metadata": {},
   "outputs": [
    {
     "data": {
      "text/plain": [
       "371"
      ]
     },
     "execution_count": 353,
     "metadata": {},
     "output_type": "execute_result"
    }
   ],
   "source": [
    "len(ds_test)"
   ]
  },
  {
   "cell_type": "code",
   "execution_count": 354,
   "id": "cce112f4",
   "metadata": {},
   "outputs": [],
   "source": [
    "#Getting the last 100 days records\n",
    "fut_inp = ds_test[(len(ds_test)-100):]"
   ]
  },
  {
   "cell_type": "code",
   "execution_count": 355,
   "id": "8977280c",
   "metadata": {},
   "outputs": [],
   "source": [
    "fut_inp = fut_inp.reshape(1,-1)"
   ]
  },
  {
   "cell_type": "code",
   "execution_count": 356,
   "id": "74ec3d48",
   "metadata": {},
   "outputs": [],
   "source": [
    "tmp_inp = list(fut_inp)"
   ]
  },
  {
   "cell_type": "code",
   "execution_count": 357,
   "id": "3848acfb",
   "metadata": {},
   "outputs": [
    {
     "data": {
      "text/plain": [
       "(1, 100)"
      ]
     },
     "execution_count": 357,
     "metadata": {},
     "output_type": "execute_result"
    }
   ],
   "source": [
    "fut_inp.shape"
   ]
  },
  {
   "cell_type": "code",
   "execution_count": 358,
   "id": "310b0b88",
   "metadata": {},
   "outputs": [],
   "source": [
    "#Creating list of the last 100 data\n",
    "tmp_inp = tmp_inp[0].tolist()"
   ]
  },
  {
   "cell_type": "code",
   "execution_count": 359,
   "id": "7076ca8a",
   "metadata": {},
   "outputs": [
    {
     "name": "stdout",
     "output_type": "stream",
     "text": [
      "[[0.6402508616447449], [0.6424347758293152], [0.6438952088356018], [0.644714891910553], [0.6449996829032898], [0.6448692083358765], [0.6444482803344727], [0.6438576579093933], [0.6432059407234192], [0.6425830125808716], [0.6420576572418213], [0.6416763067245483], [0.6414638161659241], [0.6414284110069275], [0.6415628790855408], [0.6418498754501343], [0.6422654986381531], [0.642782986164093], [0.6433749198913574], [0.6440156102180481], [0.6446839570999146], [0.6453618407249451], [0.6460363864898682], [0.6466993689537048], [0.6473462581634521], [0.6479755640029907], [0.6485891938209534], [0.6491897106170654], [0.6497812271118164], [0.6503683924674988], [0.6509550213813782], [0.651544988155365], [0.6521414518356323], [0.6527460813522339], [0.6533602476119995], [0.6539846062660217], [0.6546185612678528], [0.6552621126174927], [0.6559137105941772], [0.6565721035003662], [0.6572363376617432], [0.6579053401947021], [0.6585771441459656], [0.6592519879341125], [0.6599283218383789], [0.6606057286262512], [0.6612842679023743], [0.6619633436203003], [0.6626430153846741], [0.6633235812187195]]\n"
     ]
    }
   ],
   "source": [
    "#Predicting next 30 days price suing the current data\n",
    "#It will predict in sliding window manner (algorithm) with stride 1\n",
    "lst_output=[]\n",
    "n_steps=100\n",
    "i=0\n",
    "while(i<50):\n",
    "    \n",
    "    if(len(tmp_inp)>100):\n",
    "        fut_inp = np.array(tmp_inp[1:])\n",
    "        fut_inp=fut_inp.reshape(1,-1)\n",
    "        fut_inp = fut_inp.reshape((1, n_steps, 1))\n",
    "        yhat = model.predict(fut_inp, verbose=0)\n",
    "        tmp_inp.extend(yhat[0].tolist())\n",
    "        tmp_inp = tmp_inp[1:]\n",
    "        lst_output.extend(yhat.tolist())\n",
    "        i=i+1\n",
    "    else:\n",
    "        fut_inp = fut_inp.reshape((1, n_steps,1))\n",
    "        yhat = model.predict(fut_inp, verbose=0)\n",
    "        tmp_inp.extend(yhat[0].tolist())\n",
    "        lst_output.extend(yhat.tolist())\n",
    "        i=i+1\n",
    "    \n",
    "\n",
    "print(lst_output)"
   ]
  },
  {
   "cell_type": "code",
   "execution_count": 360,
   "id": "116e1f3c",
   "metadata": {},
   "outputs": [
    {
     "data": {
      "text/plain": [
       "1235"
      ]
     },
     "execution_count": 360,
     "metadata": {},
     "output_type": "execute_result"
    }
   ],
   "source": [
    "len(ds_scaled)"
   ]
  },
  {
   "cell_type": "code",
   "execution_count": 361,
   "id": "9e261286",
   "metadata": {},
   "outputs": [],
   "source": [
    "#Creating a dummy plane to plot graph one after another\n",
    "plot_new=np.arange(1,101)\n",
    "plot_pred=np.arange(101,151)"
   ]
  },
  {
   "cell_type": "code",
   "execution_count": 362,
   "id": "48d96e6b",
   "metadata": {},
   "outputs": [
    {
     "data": {
      "text/plain": [
       "[<matplotlib.lines.Line2D at 0x2c593cfa1f0>]"
      ]
     },
     "execution_count": 362,
     "metadata": {},
     "output_type": "execute_result"
    },
    {
     "data": {
      "image/png": "[encoded data removed]",
      "text/plain": [
       "<Figure size 432x288 with 1 Axes>"
      ]
     },
     "metadata": {
      "needs_background": "light"
     },
     "output_type": "display_data"
    }
   ],
   "source": [
    "plt.plot(plot_new, normalizer.inverse_transform(ds_scaled[len(ds_scaled)-100:]))\n",
    "plt.plot(plot_pred, normalizer.inverse_transform(lst_output))"
   ]
  },
  {
   "cell_type": "code",
   "execution_count": 284,
   "id": "3f242126",
   "metadata": {},
   "outputs": [],
   "source": [
    "ds_new = ds_scaled.tolist()"
   ]
  },
  {
   "cell_type": "code",
   "execution_count": 285,
   "id": "1d7eba84",
   "metadata": {},
   "outputs": [
    {
     "data": {
      "text/plain": [
       "1235"
      ]
     },
     "execution_count": 285,
     "metadata": {},
     "output_type": "execute_result"
    }
   ],
   "source": [
    "len(ds_new)"
   ]
  },
  {
   "cell_type": "code",
   "execution_count": 286,
   "id": "470ff514",
   "metadata": {},
   "outputs": [
    {
     "data": {
      "text/plain": [
       "[<matplotlib.lines.Line2D at 0x2c58f0fbd30>]"
      ]
     },
     "execution_count": 286,
     "metadata": {},
     "output_type": "execute_result"
    },
    {
     "data": {
      "image/png": "[encoded data removed]",
      "text/plain": [
       "<Figure size 432x288 with 1 Axes>"
      ]
     },
     "metadata": {
      "needs_background": "light"
     },
     "output_type": "display_data"
    }
   ],
   "source": [
    "#Entends helps us to fill the missing value with approx value\n",
    "ds_new.extend(lst_output)\n",
    "plt.plot(ds_new[1200:])"
   ]
  },
  {
   "cell_type": "code",
   "execution_count": 313,
   "id": "0164e7d8",
   "metadata": {},
   "outputs": [
    {
     "data": {
      "text/plain": [
       "1265"
      ]
     },
     "execution_count": 313,
     "metadata": {},
     "output_type": "execute_result"
    }
   ],
   "source": [
    "#Creating final data for plotting\n",
    "final_graph = normalizer.inverse_transform(ds_new).tolist()\n",
    "len(final_graph)"
   ]
  },
  {
   "cell_type": "code",
   "execution_count": 288,
   "id": "cf01696f",
   "metadata": {},
   "outputs": [
    {
     "data": {
      "text/plain": [
       "<matplotlib.legend.Legend at 0x2c58f041700>"
      ]
     },
     "execution_count": 288,
     "metadata": {},
     "output_type": "execute_result"
    },
    {
     "data": {
      "image/png": "[encoded data removed]",
      "text/plain": [
       "<Figure size 432x288 with 1 Axes>"
      ]
     },
     "metadata": {
      "needs_background": "light"
     },
     "output_type": "display_data"
    }
   ],
   "source": [
    "#Plotting final results with predicted value after 30 Days\n",
    "plt.plot(final_graph,)\n",
    "plt.ylabel(\"Price\")\n",
    "plt.xlabel(\"Time\")\n",
    "plt.title(\"{0} prediction of next month close\".format(stock_symbol))\n",
    "plt.axhline(y=final_graph[len(final_graph)-1], color = 'red', linestyle = ':', label = 'NEXT 30D: {0}'.format(round(float(*final_graph[len(final_graph)-1]),2)))\n",
    "plt.legend()"
   ]
  },
  {
   "cell_type": "code",
   "execution_count": 289,
   "id": "fdac776d",
   "metadata": {},
   "outputs": [],
   "source": [
    "dd = [[1,2,3],[2,3,4]]"
   ]
  },
  {
   "cell_type": "code",
   "execution_count": 290,
   "id": "d8cbed29",
   "metadata": {},
   "outputs": [
    {
     "data": {
      "text/plain": [
       "[[1, 2, 3], [2, 3, 4]]"
      ]
     },
     "execution_count": 290,
     "metadata": {},
     "output_type": "execute_result"
    }
   ],
   "source": [
    "dd"
   ]
  },
  {
   "cell_type": "code",
   "execution_count": 292,
   "id": "39cf29f8",
   "metadata": {},
   "outputs": [
    {
     "data": {
      "text/plain": [
       "list"
      ]
     },
     "execution_count": 292,
     "metadata": {},
     "output_type": "execute_result"
    }
   ],
   "source": [
    "type(dd)"
   ]
  },
  {
   "cell_type": "code",
   "execution_count": 293,
   "id": "4ae16058",
   "metadata": {},
   "outputs": [],
   "source": [
    "dd = np.array(dd)"
   ]
  },
  {
   "cell_type": "code",
   "execution_count": 294,
   "id": "7050c419",
   "metadata": {},
   "outputs": [
    {
     "data": {
      "text/plain": [
       "numpy.ndarray"
      ]
     },
     "execution_count": 294,
     "metadata": {},
     "output_type": "execute_result"
    }
   ],
   "source": [
    "type(dd)"
   ]
  },
  {
   "cell_type": "code",
   "execution_count": 307,
   "id": "7fb15f5d",
   "metadata": {},
   "outputs": [
    {
     "data": {
      "text/plain": [
       "array([[1],\n",
       "       [2],\n",
       "       [3],\n",
       "       [2],\n",
       "       [3],\n",
       "       [4]])"
      ]
     },
     "execution_count": 307,
     "metadata": {},
     "output_type": "execute_result"
    }
   ],
   "source": [
    "dd.reshape(-1,1)"
   ]
  },
  {
   "cell_type": "code",
   "execution_count": null,
   "id": "e0fcd5c1",
   "metadata": {},
   "outputs": [],
   "source": [
    "n = "
   ]
  }
 ],
 "metadata": {
  "kernelspec": {
   "display_name": "Python 3",
   "language": "python",
   "name": "python3"
  },
  "language_info": {
   "codemirror_mode": {
    "name": "ipython",
    "version": 3
   },
   "file_extension": ".py",
   "mimetype": "text/x-python",
   "name": "python",
   "nbconvert_exporter": "python",
   "pygments_lexer": "ipython3",
   "version": "3.8.8"
  }
 },
 "nbformat": 4,
 "nbformat_minor": 5
}
